{
  "nbformat": 4,
  "nbformat_minor": 0,
  "metadata": {
    "colab": {
      "name": "Untitled11.ipynb",
      "provenance": []
    },
    "kernelspec": {
      "name": "python3",
      "display_name": "Python 3"
    }
  },
  "cells": [
    {
      "cell_type": "code",
      "metadata": {
        "id": "0u-j91tLG3N5",
        "colab_type": "code",
        "colab": {}
      },
      "source": [
        "import numpy as np\n",
        "import matplotlib.pyplot as plt\n",
        "\n",
        "np.random.seed(42)\n",
        "\n",
        "def euclidean_distance(x1, x2):\n",
        "    return np.sqrt(np.sum((x1 - x2)**2))\n",
        "\n",
        "class KMean():\n",
        "\n",
        "    def __init__(self, K=8, max_iters=100, plot_steps=False):\n",
        "        self.K = K\n",
        "        self.max_iters = max_iters\n",
        "        self.plot_steps = plot_steps\n",
        "\n",
        "        # list of sample indices for each cluster\n",
        "        self.clusters = [[] for _ in range(self.K)]\n",
        "        # the centers (mean feature vector) for each cluster\n",
        "        self.centroids = []\n",
        "\n",
        "    def predict(self, X):\n",
        "        self.X = X\n",
        "        self.n_samples, self.n_features = X.shape\n",
        "        \n",
        "        # initialize \n",
        "        random_sample_idxs = np.random.choice(self.n_samples, self.K, replace=False)\n",
        "        self.centroids = [self.X[idx] for idx in random_sample_idxs]\n",
        "\n",
        "        # Optimize clusters\n",
        "        for _ in range(self.max_iters):\n",
        "            # Assign samples to closest centroids (create clusters)\n",
        "            self.clusters = self._create_clusters(self.centroids)\n",
        "            \n",
        "            if self.plot_steps:\n",
        "                self.plot()\n",
        "\n",
        "            # Calculate new centroids from the clusters\n",
        "            centroids_old = self.centroids\n",
        "            self.centroids = self._get_centroids(self.clusters)\n",
        "            \n",
        "            # check if clusters have changed\n",
        "            if self._is_converged(centroids_old, self.centroids):\n",
        "                break\n",
        "\n",
        "            if self.plot_steps:\n",
        "                self.plot()\n",
        "\n",
        "        # Classify samples as the index of their clusters\n",
        "        return self._get_cluster_labels(self.clusters)\n",
        "\n",
        "\n",
        "    def _get_cluster_labels(self, clusters):\n",
        "        # each sample will get the label of the cluster it was assigned to\n",
        "        labels = np.empty(self.n_samples)\n",
        "\n",
        "        for cluster_idx, cluster in enumerate(clusters):\n",
        "            for sample_index in cluster:\n",
        "                labels[sample_index] = cluster_idx\n",
        "        return labels\n",
        "\n",
        "    def _create_clusters(self, centroids):\n",
        "        # Assign the samples to the closest centroids to create clusters\n",
        "        clusters = [[] for _ in range(self.K)]\n",
        "        for idx, sample in enumerate(self.X):\n",
        "            centroid_idx = self._closest_centroid(sample, centroids)\n",
        "            clusters[centroid_idx].append(idx)\n",
        "        return clusters\n",
        "\n",
        "    def _closest_centroid(self, sample, centroids):\n",
        "        # distance of the current sample to each centroid\n",
        "        distances = [euclidean_distance(sample, point) for point in centroids]\n",
        "        closest_index = np.argmin(distances)\n",
        "        return closest_index\n",
        "\n",
        "    def _get_centroids(self, clusters):\n",
        "        # assign mean value of clusters to centroids\n",
        "        centroids = np.zeros((self.K, self.n_features))\n",
        "        for cluster_idx, cluster in enumerate(clusters):\n",
        "            cluster_mean = np.mean(self.X[cluster], axis=0)\n",
        "            centroids[cluster_idx] = cluster_mean\n",
        "        return centroids\n",
        "\n",
        "    def _is_converged(self, centroids_old, centroids):\n",
        "        # distances between each old and new centroids, fol all centroids\n",
        "        distances = [euclidean_distance(centroids_old[i], centroids[i]) for i in range(self.K)]\n",
        "        return sum(distances) == 0\n",
        "\n",
        "    def plot(self):\n",
        "        fig, ax = plt.subplots(figsize=(12, 8))\n",
        "\n",
        "        for i, index in enumerate(self.clusters):\n",
        "            point = self.X[index].T\n",
        "            ax.scatter(*point)\n",
        "\n",
        "        for point in self.centroids:\n",
        "            ax.scatter(*point, marker=\"x\", color='black', linewidth=2)\n",
        "\n",
        "        plt.show()"
      ],
      "execution_count": 0,
      "outputs": []
    },
    {
      "cell_type": "code",
      "metadata": {
        "id": "kQ60XPd4_QW0",
        "colab_type": "code",
        "outputId": "7b0a9422-4204-45c8-91fb-3473e19e6e23",
        "colab": {
          "base_uri": "https://localhost:8080/",
          "height": 434
        }
      },
      "source": [
        "\n",
        "import numpy as np\n",
        "from sklearn.datasets import make_blobs\n",
        "import matplotlib.pyplot as plt\n",
        "import pandas as pd\n",
        "from sklearn import cluster\n",
        "from scipy.spatial import distance\n",
        "import sklearn.datasets\n",
        "from sklearn.preprocessing import StandardScaler\n",
        "# from kmeans import KMeans\n",
        "\n",
        "dataset = pd.read_csv('kmean_dataset.csv')\n",
        "X = dataset.iloc[:,[0,1,2]].values\n",
        "# print(X)\n",
        "\n",
        "def compute_bic(kmeans,X):\n",
        "    # assign centers and labels\n",
        "    centers = [kmeans.cluster_centers_]\n",
        "    labels  = kmeans.labels_\n",
        "    #number of clusters\n",
        "    m = kmeans.n_clusters\n",
        "    # size of the clusters\n",
        "    n = np.bincount(labels)\n",
        "    #size of data set\n",
        "    N, d = X.shape\n",
        "\n",
        "    #compute variance for all clusters beforehand\n",
        "    cl_var = (1.0 / (N - m) / d) * sum([sum(distance.cdist(X[np.where(labels == i)], [centers[0][i]], \n",
        "             'euclidean')**2) for i in range(m)])\n",
        "\n",
        "    const_term = 0.5 * m * np.log(N) * (d+1)\n",
        "\n",
        "    BIC = np.sum([n[i] * np.log(n[i]) -\n",
        "               n[i] * np.log(N) -\n",
        "             ((n[i] * d) / 2) * np.log(2*np.pi*cl_var) -\n",
        "             ((n[i] - 1) * d/ 2) for i in range(m)]) - const_term\n",
        "\n",
        "    return(BIC)\n",
        "\n",
        "ks = range(1,10)\n",
        "\n",
        "# run 9 times kmeans and save each result in the KMeans object\n",
        "KMeans = [cluster.KMeans(n_clusters = i, init=\"k-means++\",random_state=0).fit(X) for i in ks]\n",
        "\n",
        "# now run for each cluster the BIC computation\n",
        "BIC = [compute_bic(kmeansi,X) for kmeansi in KMeans]\n",
        "\n",
        "print(\"Value of BIC\")\n",
        "print(BIC)\n",
        "\n",
        "print(\"Maximum value of BIC\")\n",
        "print(max(BIC))\n",
        "n = BIC.index(max(BIC))\n",
        "print(\"Value of K\")\n",
        "print(n+1)\n",
        "# n1.append(BIC)\n",
        "# print (n1)\n",
        "# print(min(n1))\n",
        "\n",
        "plt.plot(ks,BIC,'r-o')\n",
        "plt.title(\"data  (cluster vs BIC)\")\n",
        "plt.xlabel(\"Clusters\")\n",
        "plt.ylabel(\"BIC\")\n",
        "\n",
        "    "
      ],
      "execution_count": 50,
      "outputs": [
        {
          "output_type": "stream",
          "text": [
            "Value of BIC\n",
            "[-711.3188522095594, -482.5398990071221, -411.6283213921009, -380.8575173003059, -373.70503045378643, -372.98899116766205, -367.0469068841177, -370.79965082372894, -381.822081413338]\n",
            "Maximum value of BIC\n",
            "-367.0469068841177\n",
            "Value of K\n",
            "7\n"
          ],
          "name": "stdout"
        },
        {
          "output_type": "execute_result",
          "data": {
            "text/plain": [
              "Text(0, 0.5, 'BIC')"
            ]
          },
          "metadata": {
            "tags": []
          },
          "execution_count": 50
        },
        {
          "output_type": "display_data",
          "data": {
            "image/png": "[encoded data removed]",
            "text/plain": [
              "<Figure size 432x288 with 1 Axes>"
            ]
          },
          "metadata": {
            "tags": [],
            "needs_background": "light"
          }
        }
      ]
    },
    {
      "cell_type": "code",
      "metadata": {
        "id": "Q91rVMgsAMqA",
        "colab_type": "code",
        "colab": {}
      },
      "source": [
        "\n",
        "\n",
        "    \n"
      ],
      "execution_count": 0,
      "outputs": []
    },
    {
      "cell_type": "code",
      "metadata": {
        "id": "41PZyFpNAdrZ",
        "colab_type": "code",
        "colab": {}
      },
      "source": [
        ""
      ],
      "execution_count": 0,
      "outputs": []
    }
  ]
}